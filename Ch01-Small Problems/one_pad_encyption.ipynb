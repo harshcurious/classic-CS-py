{
 "cells": [
  {
   "attachments": {},
   "cell_type": "markdown",
   "metadata": {},
   "source": [
    "One-time pad is a way of encrypting data by combining it with meaningless data such that the original data cannot be recovered without knowledge of the meaningless dummy data.\n",
    "\n",
    "Easiest way to implement it is using XOR with the dummy data."
   ]
  },
  {
   "cell_type": "code",
   "execution_count": null,
   "metadata": {},
   "outputs": [],
   "source": [
    "\n",
    "from secrets import token_bytes\n",
    "from typing import Tuple\n",
    "\n",
    "def randon_key(length: int) -> int:\n",
    "  \"\"\"\n",
    "  generates a random set of bytes of length `length`\n",
    "  \"\"\"\n",
    "  dummy = token_bytes(length)\n",
    "  return int.from_bytes(dummy, \"big\")\n",
    "\n",
    "\n"
   ]
  }
 ],
 "metadata": {
  "kernelspec": {
   "display_name": "xgboost",
   "language": "python",
   "name": "python3"
  },
  "language_info": {
   "name": "python",
   "version": "3.10.9"
  },
  "orig_nbformat": 4
 },
 "nbformat": 4,
 "nbformat_minor": 2
}
