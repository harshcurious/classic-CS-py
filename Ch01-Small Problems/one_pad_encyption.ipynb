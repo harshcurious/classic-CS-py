{
 "cells": [
  {
   "attachments": {},
   "cell_type": "markdown",
   "metadata": {},
   "source": [
    "One-time pad is a way of encrypting data by combining it with meaningless data such that the original data cannot be recovered without knowledge of the meaningless dummy data.\n",
    "\n",
    "Easiest way to implement it is using XOR with the dummy data."
   ]
  },
  {
   "cell_type": "code",
   "execution_count": 8,
   "metadata": {},
   "outputs": [],
   "source": [
    "\n",
    "from secrets import token_bytes\n",
    "from typing import Tuple\n",
    "\n",
    "def randon_key(length: int) -> int:\n",
    "  \"\"\"\n",
    "  - generates a random set of bytes of length `length`\n",
    "  - converts it into an integer\n",
    "  - returns the integer\n",
    "  \"\"\"\n",
    "  dummy = token_bytes(length)\n",
    "  return int.from_bytes(dummy, \"big\")\n",
    "  # The byte order used to represent the integer. If byteorder is 'big', the most significant byte is at the beginning of the byte array. If byteorder is 'little', the most significant byte is at the end of the byte array. To request the native byte order of the host system, use sys.byteorder' as the byte order value.\n"
   ]
  },
  {
   "attachments": {},
   "cell_type": "markdown",
   "metadata": {},
   "source": [
    "## Encryption\n",
    "\n",
    "XOR is represented by ^ in python.\n",
    "\n",
    "We just XOR an `int` representing the bytes of our original `str` with a randomly generated `int` of the same bit length. "
   ]
  },
  {
   "cell_type": "code",
   "execution_count": 9,
   "metadata": {},
   "outputs": [],
   "source": [
    "def encrypt(original: str) -> tuple[int, int]:\n",
    "    \"\"\"\n",
    "    One-pad encodes the string\n",
    "    - Converts `orignal` to int\n",
    "    - generates a random key of the same length\n",
    "    - XOR with the random key to get the encrpted value\n",
    "    \n",
    "    Returns the random key and the encrypted value (in that order)\n",
    "    \"\"\"\n",
    "    original_bytes: bytes = original.encode()\n",
    "    dummy: int = randon_key(len(original_bytes))\n",
    "    original_key: int = int.from_bytes(original_bytes, \"big\")\n",
    "    encrypted: int = original_key ^ dummy\n",
    "    return dummy, encrypted"
   ]
  },
  {
   "attachments": {},
   "cell_type": "markdown",
   "metadata": {},
   "source": [
    "## Decryption\n",
    "\n",
    "simple XOR with the dummy will return the orignal value"
   ]
  },
  {
   "cell_type": "code",
   "execution_count": 12,
   "metadata": {},
   "outputs": [],
   "source": [
    "def decrypt(dummy: int, encrypted_value: int):\n",
    "    \"\"\"\n",
    "    Decrypts a one hot encoded value using the encryption key\n",
    "    Input:\n",
    "    Two ints: encryption key, encrypted_value\n",
    "    - XORs the two ints\n",
    "    - converts the result to bytes in the \"big\" format\n",
    "    Returns a string\n",
    "    \"\"\"\n",
    "    decypted = dummy ^ encrypted_value\n",
    "    tmp: bytes = decypted.to_bytes(((decypted.bit_length())+7)//8, \"big\")\n",
    "    return tmp.decode()"
   ]
  },
  {
   "cell_type": "code",
   "execution_count": 14,
   "metadata": {},
   "outputs": [
    {
     "name": "stdout",
     "output_type": "stream",
     "text": [
      "17867151095779868613165545612536 13859210054276503594385016848601\n",
      "One Time Pad!\n",
      "One Time Pad!\n"
     ]
    }
   ],
   "source": [
    "if __name__ == \"__main__\":\n",
    "    key1, key2 = encrypt(\"One Time Pad!\")\n",
    "    print(key1, key2)\n",
    "    result: str = decrypt(key1, key2)\n",
    "    print(result)\n",
    "    result: str = decrypt(key2, key1)\n",
    "    print(result)"
   ]
  },
  {
   "attachments": {},
   "cell_type": "markdown",
   "metadata": {},
   "source": [
    "> The order doesn't matter for the decryption function!!!"
   ]
  }
 ],
 "metadata": {
  "kernelspec": {
   "display_name": "xgboost",
   "language": "python",
   "name": "python3"
  },
  "language_info": {
   "codemirror_mode": {
    "name": "ipython",
    "version": 3
   },
   "file_extension": ".py",
   "mimetype": "text/x-python",
   "name": "python",
   "nbconvert_exporter": "python",
   "pygments_lexer": "ipython3",
   "version": "3.10.9"
  },
  "orig_nbformat": 4
 },
 "nbformat": 4,
 "nbformat_minor": 2
}
