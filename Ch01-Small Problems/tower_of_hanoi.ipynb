{
 "cells": [
  {
   "attachments": {},
   "cell_type": "markdown",
   "metadata": {},
   "source": [
    "# Modelling the Tower of Hanoi\n",
    "\n",
    "\n",
    "Key data structure for this: **stack**\n",
    "\n",
    "Last-In-First-Out(LIFO)\n",
    "Methods:\n",
    "1. `push`: Add a new item to the end of the stack\n",
    "2. `pop`: Remove the last element in the stack\n",
    "\n",
    "In python we model this using a `list`"
   ]
  },
  {
   "cell_type": "code",
   "execution_count": 2,
   "metadata": {},
   "outputs": [],
   "source": [
    "# Updated code using ChatGPT (needs checking)\n",
    "from typing import Generic, TypeVar, Protocol, runtime_checkable\n",
    "\n",
    "T = TypeVar('T')\n",
    "\n",
    "@runtime_checkable\n",
    "class SupportsPush(Protocol[T]):\n",
    "    def push(self, item: T) -> None:\n",
    "        ...\n",
    "\n",
    "@runtime_checkable\n",
    "class SupportsPop(Protocol[T]):\n",
    "    def pop(self) -> T:\n",
    "        ...\n",
    "\n",
    "@runtime_checkable\n",
    "class SupportsLen(Protocol[T]):\n",
    "    def __len__(self) -> int:\n",
    "        ...\n",
    "\n",
    "class Stack(Generic[T], SupportsPush[T], SupportsPop[T], SupportsLen[T]):\n",
    "\n",
    "    def __init__(self) -> None:\n",
    "        self._container: List[T] = []\n",
    "\n",
    "    def __len__(self) -> int:\n",
    "        return len(self._container)\n",
    "\n",
    "    def push(self, item: T) -> None:\n",
    "        self._container.append(item)\n",
    "\n",
    "    def pop(self) -> T:\n",
    "        return self._container.pop()\n",
    "\n",
    "    def __repr__(self) -> str:\n",
    "        return repr(self._container)\n"
   ]
  },
  {
   "attachments": {},
   "cell_type": "markdown",
   "metadata": {},
   "source": [
    "### TODO\n",
    "\n",
    "Need to look into the following:\n",
    "1. Typing module.\n",
    "2. Parts included by default now.\n",
    "3. Understand generics.\n",
    "4. Look into `Protocol`"
   ]
  },
  {
   "cell_type": "code",
   "execution_count": null,
   "metadata": {},
   "outputs": [],
   "source": []
  },
  {
   "attachments": {},
   "cell_type": "markdown",
   "metadata": {},
   "source": [
    "### How to solve the tower of Hanoi problem?\n",
    "\n",
    "- Move the upper n-1 discs from A to B (the temp tower), using C as the inbetween\n",
    "- Move the last disc from A to C.\n",
    "- Move the n-1 discs from tower B to C, using A as the in-between.\n",
    "\n",
    "This reduces the problem to th case of n-1.\n",
    "\n",
    "So a recursive solution will work. Only need to account for the case when n=1."
   ]
  },
  {
   "cell_type": "code",
   "execution_count": 3,
   "metadata": {},
   "outputs": [],
   "source": [
    "# # My attempt at a modification. It does not work because it doesn't remeber what happened at the last step. So the code doesn't know when to stop!!!\n",
    "\n",
    "# def hanoi(begin: Stack[int], end: Stack[int], temp: Stack[int]) -> None:\n",
    "#     n = len(begin)\n",
    "#     print(begin, end, temp)\n",
    "#     # if n == 1:\n",
    "#     end.push(begin.pop())\n",
    "#     print(begin, end, temp)\n",
    "#     hanoi(begin, temp, end)\n",
    "#     hanoi(begin, end, temp)\n",
    "#     hanoi(temp, end, begin)"
   ]
  },
  {
   "cell_type": "code",
   "execution_count": 23,
   "metadata": {},
   "outputs": [],
   "source": [
    "# from functools import lru_cache\n",
    "\n",
    "# @lru_cache(maxsize=None)\n",
    "def hanoi(begin: Stack[int], end: Stack[int], temp: Stack[int], n: int) -> None:\n",
    "    # print(n)\n",
    "    if n == 1:\n",
    "      end.push(begin.pop())\n",
    "      return None\n",
    "    hanoi(begin, temp, end, n-1)\n",
    "    hanoi(begin, end, temp, 1)\n",
    "    hanoi(temp, end, begin, n-1)"
   ]
  },
  {
   "cell_type": "code",
   "execution_count": 24,
   "metadata": {},
   "outputs": [
    {
     "name": "stdout",
     "output_type": "stream",
     "text": [
      "[0, 1, 2] [] []\n",
      "[] [] [0, 1, 2]\n"
     ]
    }
   ],
   "source": [
    "if __name__ == \"__main__\":\n",
    "    num_discs: int = 3\n",
    "    tower_a: Stack[int] = Stack()\n",
    "    tower_b: Stack[int] = Stack()\n",
    "    tower_c: Stack[int] = Stack()\n",
    "    for i in range(num_discs):\n",
    "        tower_a.push(i)\n",
    "\n",
    "    print(tower_a, tower_b, tower_c)\n",
    "    hanoi(begin=tower_a, temp=tower_b, end=tower_c, n=num_discs)\n",
    "    print(tower_a, tower_b, tower_c)"
   ]
  },
  {
   "attachments": {},
   "cell_type": "markdown",
   "metadata": {},
   "source": [
    "## A solver for the works for any number of towers"
   ]
  },
  {
   "cell_type": "code",
   "execution_count": null,
   "metadata": {},
   "outputs": [],
   "source": [
    "# TODO\n"
   ]
  }
 ],
 "metadata": {
  "kernelspec": {
   "display_name": "xgboost",
   "language": "python",
   "name": "python3"
  },
  "language_info": {
   "codemirror_mode": {
    "name": "ipython",
    "version": 3
   },
   "file_extension": ".py",
   "mimetype": "text/x-python",
   "name": "python",
   "nbconvert_exporter": "python",
   "pygments_lexer": "ipython3",
   "version": "3.10.9"
  },
  "orig_nbformat": 4
 },
 "nbformat": 4,
 "nbformat_minor": 2
}
