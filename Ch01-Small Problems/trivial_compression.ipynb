{
 "cells": [
  {
   "cell_type": "markdown",
   "id": "fac20ac1-caa7-47a0-97fa-00349a9e52a2",
   "metadata": {},
   "source": [
    "# Trivial Compression"
   ]
  },
  {
   "cell_type": "markdown",
   "id": "abf7dbf2-720c-4308-a2c3-edf4a8cc7d82",
   "metadata": {},
   "source": [
    "**Compression**: Taking data and encoding it in such a way that it takes less space.\n",
    "\n",
    "**Decompression**: Revesing the compressed(encoded) data back to it's orignal form\n",
    "\n",
    "\n",
    "\n",
    "> Why compress?\n",
    ">\n",
    "> Memory/space savings\n",
    "\n",
    "\n",
    "> Why **not** compress?\n",
    ">\n",
    "> Compute expense"
   ]
  },
  {
   "cell_type": "markdown",
   "id": "bf931473-fad8-4fde-aafd-6899fa611cbd",
   "metadata": {},
   "source": [
    "## Example: Gene storage in Python\n",
    "\n",
    "Neucliotides have 4 values: **A, C, G, or T**\n",
    "\n",
    "One character requires 8 bits of storage. A human has 1.2 million nuceotides. So it's about 1.2mb/human\n",
    "\n",
    "Since this still a sequence, turning it into a categorical variable is not really an option.\n",
    "\n",
    "Another option is _bit string_."
   ]
  },
  {
   "cell_type": "markdown",
   "id": "95fd813f-c031-4a5c-babe-e509c3b914a5",
   "metadata": {},
   "source": [
    "There is no built in construct for working with bit string of arbitrary length. There is a pypi library `bitstring`. I will try that out later\n",
    "\n",
    "We will go the route of building our own class."
   ]
  },
  {
   "cell_type": "code",
   "execution_count": 6,
   "id": "6bd88f0e-fb24-423b-9346-089f983870a5",
   "metadata": {
    "tags": []
   },
   "outputs": [],
   "source": [
    "class CompressedGene:\n",
    "    def __init__(self, gene: str) -> None:\n",
    "        self._compress(gene)\n",
    "        \n",
    "    def _compress(self, gene: str) -> None:\n",
    "        self.bit_string: int = 1  # start with sentinel\n",
    "        for nucleotide in gene.upper():\n",
    "            self.bit_string <<=2  # shift two bits\n",
    "            if nucleotide == \"A\":\n",
    "                # change last two bits to 00\n",
    "                self.bit_string |= 0b00\n",
    "            elif nucleotide == \"C\":\n",
    "                #change last two bits to 01\n",
    "                self.bit_string |= 0b01\n",
    "            elif nucleotide == \"G\":\n",
    "                # change last two bits to 10\n",
    "                self.bit_string |= 0b10\n",
    "            elif nucleotide == \"T\":\n",
    "                # change last two bits to 11\n",
    "                self.bit_string |= 0b11\n",
    "            else:\n",
    "                raise ValueError(f\"Invalid Nucleotide: {nucleotide}\")\n",
    "    \n",
    "    def decompress(self) -> str:\n",
    "        gene: str = \"\"\n",
    "        # indexing evey two bit from 0 to the length -1; the -1 is because of the sentinel in _compress\n",
    "        for idx in range(0, self.bit_string.bit_length() - 1, 2):\n",
    "            bits: int = self.bit_string >> idx & 0b11\n",
    "            if bits == 0b00:\n",
    "                gene += 'A'\n",
    "            elif bits == 0b01:\n",
    "                gene += 'C'\n",
    "            elif bits == 0b10:\n",
    "                gene += 'G'\n",
    "            elif bits == 0b11:\n",
    "                gene += 'T'\n",
    "            else:\n",
    "                raise ValueError(f\"Invalid bits: {bits}\")\n",
    "        return gene[::-1]\n",
    "    \n",
    "    def __str__(self) -> str:\n",
    "        return self.decompress()"
   ]
  },
  {
   "cell_type": "code",
   "execution_count": 3,
   "id": "b413a45a-f1b3-4a75-8614-d6462e84261c",
   "metadata": {
    "tags": []
   },
   "outputs": [],
   "source": [
    "from sys import getsizeof\n",
    "\n",
    "original: str = \"TAAAAAAAAGGTTTTAAATATTTATATAGGGGTATATAGCGCGCTATGCACACACACACA\" * 100"
   ]
  },
  {
   "cell_type": "code",
   "execution_count": 5,
   "id": "ce19daf7-2944-4d54-a8be-9a067bc5fa0a",
   "metadata": {
    "tags": []
   },
   "outputs": [
    {
     "name": "stdout",
     "output_type": "stream",
     "text": [
      "Original gene is 6049 bytes\n",
      "Compressed is 1628 bytes\n"
     ]
    }
   ],
   "source": [
    "print(f\"Original gene is {getsizeof(original)} bytes\")\n",
    "\n",
    "compressed: CompressedGene = CompressedGene(original)\n",
    "\n",
    "print(f\"Compressed is {getsizeof(compressed.bit_string)} bytes\")"
   ]
  },
  {
   "cell_type": "code",
   "execution_count": 7,
   "id": "5cce0b3c-0156-4c87-a61a-6e22c68fa276",
   "metadata": {
    "tags": []
   },
   "outputs": [
    {
     "name": "stdout",
     "output_type": "stream",
     "text": [
      "Original and decompressed are the same: True\n"
     ]
    }
   ],
   "source": [
    "print(f\"Original and decompressed are the same: {original == compressed.decompress()}\")"
   ]
  },
  {
   "cell_type": "code",
   "execution_count": null,
   "id": "dece0572-8acf-4dc6-a387-d36ae712c4aa",
   "metadata": {},
   "outputs": [],
   "source": []
  },
  {
   "cell_type": "markdown",
   "id": "fa862ed9-3a6c-4a39-b235-eebff6973f61",
   "metadata": {},
   "source": [
    "## Quick Review of Bitwise operations"
   ]
  },
  {
   "cell_type": "code",
   "execution_count": 8,
   "id": "b697f522-bd7d-4eff-a8f4-4f75ecad2a8e",
   "metadata": {
    "tags": []
   },
   "outputs": [
    {
     "data": {
      "text/plain": [
       "1"
      ]
     },
     "execution_count": 8,
     "metadata": {},
     "output_type": "execute_result"
    }
   ],
   "source": [
    "0b01"
   ]
  },
  {
   "cell_type": "code",
   "execution_count": 9,
   "id": "11a5e41c-2903-424b-a71c-d4bc2d10ab8f",
   "metadata": {
    "tags": []
   },
   "outputs": [
    {
     "data": {
      "text/plain": [
       "int"
      ]
     },
     "execution_count": 9,
     "metadata": {},
     "output_type": "execute_result"
    }
   ],
   "source": [
    "type(0b01)"
   ]
  },
  {
   "cell_type": "markdown",
   "id": "2ec78f4f-1056-4cee-b45b-d5552e41ff39",
   "metadata": {},
   "source": [
    "So a bit is basically stored as an `int`"
   ]
  },
  {
   "cell_type": "code",
   "execution_count": 18,
   "id": "32e56683-cf15-4964-9472-6bfe8c2d087d",
   "metadata": {
    "tags": []
   },
   "outputs": [
    {
     "data": {
      "text/plain": [
       "True"
      ]
     },
     "execution_count": 18,
     "metadata": {},
     "output_type": "execute_result"
    }
   ],
   "source": [
    "0b01 == 0b1"
   ]
  },
  {
   "cell_type": "markdown",
   "id": "d76d8a15-02b7-4168-a637-68973851275d",
   "metadata": {},
   "source": [
    "### OR"
   ]
  },
  {
   "cell_type": "code",
   "execution_count": 10,
   "id": "d6006837-41a4-48c8-9f08-20e187f4ea46",
   "metadata": {
    "tags": []
   },
   "outputs": [
    {
     "data": {
      "text/plain": [
       "1"
      ]
     },
     "execution_count": 10,
     "metadata": {},
     "output_type": "execute_result"
    }
   ],
   "source": [
    "1|1"
   ]
  },
  {
   "cell_type": "code",
   "execution_count": 11,
   "id": "3ed64c30-aa1a-47c0-9069-001ed49a2c4a",
   "metadata": {
    "tags": []
   },
   "outputs": [
    {
     "data": {
      "text/plain": [
       "1"
      ]
     },
     "execution_count": 11,
     "metadata": {},
     "output_type": "execute_result"
    }
   ],
   "source": [
    "0b01 | 0b01"
   ]
  },
  {
   "cell_type": "code",
   "execution_count": 12,
   "id": "35b477d9-edee-48ba-9566-22527a826cf3",
   "metadata": {
    "tags": []
   },
   "outputs": [
    {
     "data": {
      "text/plain": [
       "3"
      ]
     },
     "execution_count": 12,
     "metadata": {},
     "output_type": "execute_result"
    }
   ],
   "source": [
    "0b001 | 0b010"
   ]
  },
  {
   "cell_type": "code",
   "execution_count": 13,
   "id": "74a7c28c-624c-4279-810a-abbaca19f9a3",
   "metadata": {
    "tags": []
   },
   "outputs": [
    {
     "data": {
      "text/plain": [
       "True"
      ]
     },
     "execution_count": 13,
     "metadata": {},
     "output_type": "execute_result"
    }
   ],
   "source": [
    "0b001 | 0b010 == 0b011"
   ]
  },
  {
   "cell_type": "markdown",
   "id": "fa2b5d82-339c-4c36-96ce-23715718a370",
   "metadata": {},
   "source": [
    "So bit-wise **or** (a\\|b) works the following way:\n",
    "\n",
    "| a | b | a\\|b |\n",
    "|----|---|----|\n",
    "|0b0 | 0b0 | 0b0 |\n",
    "|0b0 | 0b1 | 0b1 |\n",
    "|0b1 | 0b0 | 0b1 |\n",
    "|0b1 | 0b1 | 0b1 |\n",
    "|0b0 | 0b10 | 0b10 |\n",
    "|0b10 | 0b0 | 0b10 |\n",
    "|0b10 | 0b10 | 0b10 |\n",
    "|0b11 | 0b10 | 0b11 |\n",
    "|0b10 | 0b11 | 0b11 |\n",
    "|0b11 | 0b11 | 0b11 |"
   ]
  },
  {
   "cell_type": "code",
   "execution_count": 21,
   "id": "f350a00b-3694-4f4f-9578-31a776baabba",
   "metadata": {
    "tags": []
   },
   "outputs": [
    {
     "data": {
      "text/plain": [
       "3"
      ]
     },
     "execution_count": 21,
     "metadata": {},
     "output_type": "execute_result"
    }
   ],
   "source": [
    "0b11 | 0b10"
   ]
  },
  {
   "cell_type": "code",
   "execution_count": 23,
   "id": "ce50f6bc-a5d5-48b4-9227-3db9c56015d4",
   "metadata": {
    "tags": []
   },
   "outputs": [
    {
     "data": {
      "text/plain": [
       "1"
      ]
     },
     "execution_count": 23,
     "metadata": {},
     "output_type": "execute_result"
    }
   ],
   "source": [
    "0b11 & 0b01"
   ]
  },
  {
   "cell_type": "code",
   "execution_count": 10,
   "id": "4d8520b3-04a4-42a0-9fc2-ec731a95adc6",
   "metadata": {},
   "outputs": [
    {
     "name": "stdout",
     "output_type": "stream",
     "text": [
      "0b10\n",
      "0b100\n",
      "0b1000\n",
      "0b110\n",
      "0b1100\n"
     ]
    }
   ],
   "source": [
    "print(bin(0b10 << 0))\n",
    "print(bin(0b10 << 1))\n",
    "print(bin(0b10 << 2))\n",
    "print(bin(0b11 << 1))\n",
    "print(bin(0b11 << 2))"
   ]
  },
  {
   "cell_type": "code",
   "execution_count": 1,
   "id": "3d6d099f",
   "metadata": {},
   "outputs": [
    {
     "name": "stdout",
     "output_type": "stream",
     "text": [
      "0b10\n",
      "0b1\n",
      "0b0\n",
      "0b1\n",
      "0b0\n"
     ]
    }
   ],
   "source": [
    "print(bin(0b10 >> 0))\n",
    "print(bin(0b10 >> 1))\n",
    "print(bin(0b10 >> 2))\n",
    "print(bin(0b11 >> 1))\n",
    "print(bin(0b11 >> 2))"
   ]
  },
  {
   "cell_type": "code",
   "execution_count": 6,
   "id": "b9b01c10",
   "metadata": {},
   "outputs": [
    {
     "name": "stdout",
     "output_type": "stream",
     "text": [
      "0b1\n"
     ]
    }
   ],
   "source": [
    "print(bin(0b01))"
   ]
  },
  {
   "cell_type": "code",
   "execution_count": null,
   "id": "5dac0525",
   "metadata": {},
   "outputs": [],
   "source": []
  }
 ],
 "metadata": {
  "kernelspec": {
   "display_name": "bike-share",
   "language": "python",
   "name": "bike-share"
  },
  "language_info": {
   "codemirror_mode": {
    "name": "ipython",
    "version": 3
   },
   "file_extension": ".py",
   "mimetype": "text/x-python",
   "name": "python",
   "nbconvert_exporter": "python",
   "pygments_lexer": "ipython3",
   "version": "3.9.7"
  }
 },
 "nbformat": 4,
 "nbformat_minor": 5
}
