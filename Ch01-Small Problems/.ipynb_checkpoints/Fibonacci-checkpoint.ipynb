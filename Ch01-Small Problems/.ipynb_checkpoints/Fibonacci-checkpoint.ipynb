{
 "cells": [
  {
   "cell_type": "markdown",
   "id": "e25b943a-2d27-4cf1-9e87-c6f15a166d7a",
   "metadata": {},
   "source": [
    "# Fibonacci Sequence\n",
    "\n",
    "Special variety of infinite sequence $(a_i)_{0}^{\\infty}$ such that:\n",
    "1. $a_0 = 0$\n",
    "2. $a_1 = 1$\n",
    "3. $a_j = a_{j-1} + a_{j-2}$ for all $j \\geq 2$.\n",
    "\n",
    "This results in the unique series:\n",
    "$$ 0, 1, 1, 2, 3, 5, 8, 13, 21 \\ldots $$\n",
    "\n",
    "In this notebook, let's explore ways to translate the above math properties into python code. Along the way we will also explore some advanced *pythonic* techniques."
   ]
  },
  {
   "cell_type": "markdown",
   "id": "1a5becfc-6feb-4b78-b590-0bb79cbef98f",
   "metadata": {},
   "source": [
    "## Recursion"
   ]
  },
  {
   "cell_type": "code",
   "execution_count": null,
   "id": "8ce37e46-8b2a-4391-a6ea-0b2c53a5705c",
   "metadata": {
    "execution": {
     "iopub.execute_input": "2022-02-20T11:55:54.586308Z",
     "iopub.status.busy": "2022-02-20T11:55:54.586175Z",
     "iopub.status.idle": "2022-02-20T11:55:54.593753Z",
     "shell.execute_reply": "2022-02-20T11:55:54.592889Z",
     "shell.execute_reply.started": "2022-02-20T11:55:54.586266Z"
    }
   },
   "outputs": [],
   "source": [
    "from __future__ import annotations"
   ]
  },
  {
   "cell_type": "code",
   "execution_count": 2,
   "id": "2a972bfb-8685-4279-a733-2bbd63d1da6d",
   "metadata": {
    "execution": {
     "iopub.execute_input": "2022-02-20T11:55:54.594828Z",
     "iopub.status.busy": "2022-02-20T11:55:54.594578Z",
     "iopub.status.idle": "2022-02-20T11:55:56.102437Z",
     "shell.execute_reply": "2022-02-20T11:55:56.101520Z",
     "shell.execute_reply.started": "2022-02-20T11:55:54.594809Z"
    }
   },
   "outputs": [
    {
     "ename": "RecursionError",
     "evalue": "maximum recursion depth exceeded",
     "output_type": "error",
     "traceback": [
      "\u001b[0;31m---------------------------------------------------------------------------\u001b[0m",
      "\u001b[0;31mRecursionError\u001b[0m                            Traceback (most recent call last)",
      "Input \u001b[0;32mIn [2]\u001b[0m, in \u001b[0;36m<module>\u001b[0;34m\u001b[0m\n\u001b[1;32m      4\u001b[0m     \u001b[38;5;28;01mreturn\u001b[39;00m fib1(n \u001b[38;5;241m-\u001b[39m\u001b[38;5;241m1\u001b[39m) \u001b[38;5;241m+\u001b[39m fib1(n\u001b[38;5;241m-\u001b[39m\u001b[38;5;241m2\u001b[39m)\n\u001b[1;32m      6\u001b[0m \u001b[38;5;28;01mif\u001b[39;00m \u001b[38;5;18m__name__\u001b[39m \u001b[38;5;241m==\u001b[39m \u001b[38;5;124m\"\u001b[39m\u001b[38;5;124m__main__\u001b[39m\u001b[38;5;124m\"\u001b[39m:\n\u001b[0;32m----> 7\u001b[0m     \u001b[38;5;28mprint\u001b[39m(\u001b[43mfib1\u001b[49m\u001b[43m(\u001b[49m\u001b[38;5;241;43m5\u001b[39;49m\u001b[43m)\u001b[49m)\n",
      "Input \u001b[0;32mIn [2]\u001b[0m, in \u001b[0;36mfib1\u001b[0;34m(n)\u001b[0m\n\u001b[1;32m      3\u001b[0m \u001b[38;5;28;01mdef\u001b[39;00m \u001b[38;5;21mfib1\u001b[39m(n: \u001b[38;5;28mint\u001b[39m) \u001b[38;5;241m-\u001b[39m\u001b[38;5;241m>\u001b[39m \u001b[38;5;28mint\u001b[39m:\n\u001b[0;32m----> 4\u001b[0m     \u001b[38;5;28;01mreturn\u001b[39;00m \u001b[43mfib1\u001b[49m\u001b[43m(\u001b[49m\u001b[43mn\u001b[49m\u001b[43m \u001b[49m\u001b[38;5;241;43m-\u001b[39;49m\u001b[38;5;241;43m1\u001b[39;49m\u001b[43m)\u001b[49m \u001b[38;5;241m+\u001b[39m fib1(n\u001b[38;5;241m-\u001b[39m\u001b[38;5;241m2\u001b[39m)\n",
      "Input \u001b[0;32mIn [2]\u001b[0m, in \u001b[0;36mfib1\u001b[0;34m(n)\u001b[0m\n\u001b[1;32m      3\u001b[0m \u001b[38;5;28;01mdef\u001b[39;00m \u001b[38;5;21mfib1\u001b[39m(n: \u001b[38;5;28mint\u001b[39m) \u001b[38;5;241m-\u001b[39m\u001b[38;5;241m>\u001b[39m \u001b[38;5;28mint\u001b[39m:\n\u001b[0;32m----> 4\u001b[0m     \u001b[38;5;28;01mreturn\u001b[39;00m \u001b[43mfib1\u001b[49m\u001b[43m(\u001b[49m\u001b[43mn\u001b[49m\u001b[43m \u001b[49m\u001b[38;5;241;43m-\u001b[39;49m\u001b[38;5;241;43m1\u001b[39;49m\u001b[43m)\u001b[49m \u001b[38;5;241m+\u001b[39m fib1(n\u001b[38;5;241m-\u001b[39m\u001b[38;5;241m2\u001b[39m)\n",
      "    \u001b[0;31m[... skipping similar frames: fib1 at line 4 (2970 times)]\u001b[0m\n",
      "Input \u001b[0;32mIn [2]\u001b[0m, in \u001b[0;36mfib1\u001b[0;34m(n)\u001b[0m\n\u001b[1;32m      3\u001b[0m \u001b[38;5;28;01mdef\u001b[39;00m \u001b[38;5;21mfib1\u001b[39m(n: \u001b[38;5;28mint\u001b[39m) \u001b[38;5;241m-\u001b[39m\u001b[38;5;241m>\u001b[39m \u001b[38;5;28mint\u001b[39m:\n\u001b[0;32m----> 4\u001b[0m     \u001b[38;5;28;01mreturn\u001b[39;00m \u001b[43mfib1\u001b[49m\u001b[43m(\u001b[49m\u001b[43mn\u001b[49m\u001b[43m \u001b[49m\u001b[38;5;241;43m-\u001b[39;49m\u001b[38;5;241;43m1\u001b[39;49m\u001b[43m)\u001b[49m \u001b[38;5;241m+\u001b[39m fib1(n\u001b[38;5;241m-\u001b[39m\u001b[38;5;241m2\u001b[39m)\n",
      "\u001b[0;31mRecursionError\u001b[0m: maximum recursion depth exceeded"
     ]
    }
   ],
   "source": [
    "# incorrect version\n",
    "# wanted to see how thee \"__main__\" will work\n",
    "def fib1(n: int) -> int:\n",
    "    return fib1(n -1) + fib1(n-2)\n",
    "\n",
    "if __name__ == \"__main__\":\n",
    "    print(fib1(5))"
   ]
  },
  {
   "cell_type": "markdown",
   "id": "674dc902-1b6b-4d4d-b5dd-d2bc6462e58b",
   "metadata": {},
   "source": [
    "Pay attention to the error message: `RecursionError: maximum recursion depth exceeded`. Newer versions of python will highlight the position where the problem happened. Still learning to read the error messages is an integral skill in programming. \n",
    "\n",
    "`RecursionError: maximum recursion depth exceeded` is much like getting stuck in an infinite loop. You need an exit condition to avoid this. "
   ]
  },
  {
   "cell_type": "markdown",
   "id": "f7b2eeaa-7f20-4ee9-9a73-d314302a8be8",
   "metadata": {},
   "source": [
    "This leads us to the important idea of **base case** in recursion. Note that so far, we have only coded the third part of the properties of a fibonacci sequence. The first two parts are the base case here. The value of sequence for $i = 0, 1$."
   ]
  },
  {
   "cell_type": "code",
   "execution_count": 3,
   "id": "f7d4ccc6-5af0-4a59-9d40-4447821d5e35",
   "metadata": {
    "execution": {
     "iopub.execute_input": "2022-02-20T11:56:38.460620Z",
     "iopub.status.busy": "2022-02-20T11:56:38.460397Z",
     "iopub.status.idle": "2022-02-20T11:56:38.465613Z",
     "shell.execute_reply": "2022-02-20T11:56:38.464882Z",
     "shell.execute_reply.started": "2022-02-20T11:56:38.460595Z"
    },
    "tags": []
   },
   "outputs": [
    {
     "name": "stdout",
     "output_type": "stream",
     "text": [
      "5\n",
      "55\n"
     ]
    }
   ],
   "source": [
    "# basic recurion\n",
    "def fib2(n: int) -> int:\n",
    "    if n < 2:\n",
    "        return n\n",
    "    return fib2(n -1) + fib2(n-2)\n",
    "\n",
    "if __name__ == \"__main__\":\n",
    "    print(fib2(5))\n",
    "    print(fib2(10))"
   ]
  },
  {
   "cell_type": "markdown",
   "id": "40a05b05-4fb4-4a93-82e8-dc2b8d4d2d29",
   "metadata": {},
   "source": [
    "***\n",
    "Another interesting point I thought about while reading this is that recursion is nothing but the finite (CS) version of [Mathematical induction](https://en.wikipedia.org/wiki/Mathematical_induction \"Wikipedia\")🤯. The base case idea translates too. Having thought so much about induction I now feel at ease with recursion too.\n",
    "\n",
    "***"
   ]
  },
  {
   "cell_type": "markdown",
   "id": "f4639851-d91f-4127-8875-9e2971d3fa24",
   "metadata": {},
   "source": [
    "Now let's look at the inner working of the previous code (using the [Recusion-Tree-Visualizer](https://github.com/Bishalsarang/Recursion-Tree-Visualizer) library):"
   ]
  },
  {
   "cell_type": "code",
   "execution_count": null,
   "id": "e30fe467-edc2-422e-a254-45b4a2198aec",
   "metadata": {},
   "outputs": [],
   "source": [
    "%run fibvis2.py"
   ]
  },
  {
   "cell_type": "markdown",
   "id": "64cd637f-7e0d-4b2a-9a9e-8140e529c209",
   "metadata": {
    "execution": {
     "iopub.execute_input": "2022-02-20T11:37:43.387250Z",
     "iopub.status.busy": "2022-02-20T11:37:43.387017Z",
     "iopub.status.idle": "2022-02-20T11:37:43.502242Z",
     "shell.execute_reply": "2022-02-20T11:37:43.501695Z",
     "shell.execute_reply.started": "2022-02-20T11:37:43.387222Z"
    },
    "tags": []
   },
   "source": [
    "![](fib2.gif)"
   ]
  },
  {
   "cell_type": "markdown",
   "id": "3d77ffdf-1a83-4429-86c1-45271327b1fb",
   "metadata": {},
   "source": [
    "## Recursion with Memoization\n",
    "\n",
    "Memoization:\n",
    "    Programming technique that stores the results of computational tasks in order to re-use them. \n",
    "    \n",
    "If the same calculation is being repeated multiple times in your program (like in our recursion here), you can increase the speed of your program. \n",
    "\n",
    "Memoization can result in higher memory usage!"
   ]
  },
  {
   "cell_type": "markdown",
   "id": "9d9d5e94-92a8-499f-968a-f7b5714c75c2",
   "metadata": {},
   "source": [
    "### Manual Memoization"
   ]
  },
  {
   "cell_type": "code",
   "execution_count": 5,
   "id": "6662e43e-71a1-42d8-b729-4cfc8e8c60bd",
   "metadata": {
    "execution": {
     "iopub.execute_input": "2022-02-20T11:56:45.973275Z",
     "iopub.status.busy": "2022-02-20T11:56:45.973038Z",
     "iopub.status.idle": "2022-02-20T11:56:45.977618Z",
     "shell.execute_reply": "2022-02-20T11:56:45.977142Z",
     "shell.execute_reply.started": "2022-02-20T11:56:45.973250Z"
    },
    "tags": []
   },
   "outputs": [
    {
     "name": "stdout",
     "output_type": "stream",
     "text": [
      "5\n",
      "12586269025\n"
     ]
    }
   ],
   "source": [
    "memo: Dict[int, int] = {0: 0, 1: 1}\n",
    "\n",
    "def fib3(n: int) -> int:\n",
    "    if n not in memo:\n",
    "        memo[n] = fib3(n -1) + fib3(n -2)\n",
    "    return memo[n]\n",
    "\n",
    "if __name__ == \"__main__\":\n",
    "    print(fib3(5))\n",
    "    print(fib3(50))"
   ]
  },
  {
   "cell_type": "markdown",
   "id": "a53a41da-8855-4c96-be78-22783c17cc4a",
   "metadata": {},
   "source": [
    "Notice that `fib3(50)` is comparable in speed to `fib2(10)`! Memoization leads to massive gains here!\n",
    "\n",
    "***\n",
    "\n",
    "Let's try to visualize this:"
   ]
  },
  {
   "cell_type": "code",
   "execution_count": 6,
   "id": "cfc5ace7-e6ef-49c1-b8a2-02ef4211632f",
   "metadata": {
    "execution": {
     "iopub.execute_input": "2022-02-20T11:56:49.894924Z",
     "iopub.status.busy": "2022-02-20T11:56:49.894478Z",
     "iopub.status.idle": "2022-02-20T11:57:00.674626Z",
     "shell.execute_reply": "2022-02-20T11:57:00.674174Z",
     "shell.execute_reply.started": "2022-02-20T11:56:49.894897Z"
    },
    "tags": []
   },
   "outputs": [
    {
     "name": "stdout",
     "output_type": "stream",
     "text": [
      "Drawing for fib3(1)\n",
      "8\n",
      "Starting to make animation\n",
      "File fib3.png successfully written\n",
      "Writing frames....\n",
      "Writing gif...\n",
      "Saved gif fib3.gif successfully\n"
     ]
    }
   ],
   "source": [
    "%run fibvis3.py"
   ]
  },
  {
   "cell_type": "markdown",
   "id": "155d0cbd-4ff9-4dee-9f76-58e08264e0a1",
   "metadata": {
    "execution": {
     "iopub.execute_input": "2022-02-20T12:46:15.859454Z",
     "iopub.status.busy": "2022-02-20T12:46:15.859312Z",
     "iopub.status.idle": "2022-02-20T12:46:15.984219Z",
     "shell.execute_reply": "2022-02-20T12:46:15.983736Z",
     "shell.execute_reply.started": "2022-02-20T12:46:15.859439Z"
    }
   },
   "source": [
    "![](fib3.gif)"
   ]
  },
  {
   "cell_type": "markdown",
   "id": "f5defb52-36ca-463d-b39a-5c6bf6329c2a",
   "metadata": {},
   "source": [
    "### Momization using Decorator\n",
    "\n",
    "Python provides automatic memoization using `@functools.lru_cache(maxsize=None)` decorator. Let's rewrite our fibonacci function using this."
   ]
  },
  {
   "cell_type": "code",
   "execution_count": 14,
   "id": "9cd17b95-6895-423b-b6ff-9c3335fd7911",
   "metadata": {
    "execution": {
     "iopub.execute_input": "2022-02-20T12:57:03.092795Z",
     "iopub.status.busy": "2022-02-20T12:57:03.092609Z",
     "iopub.status.idle": "2022-02-20T12:57:03.096927Z",
     "shell.execute_reply": "2022-02-20T12:57:03.096509Z",
     "shell.execute_reply.started": "2022-02-20T12:57:03.092775Z"
    },
    "tags": []
   },
   "outputs": [
    {
     "name": "stdout",
     "output_type": "stream",
     "text": [
      "5\n",
      "12586269025\n"
     ]
    }
   ],
   "source": [
    "from functools import lru_cache\n",
    "\n",
    "@lru_cache(maxsize=None)\n",
    "def fib4(n: int) -> int:\n",
    "    if n < 2:\n",
    "        return n\n",
    "    return fib4(n -2) + fib4(n - 1)\n",
    "\n",
    "if __name__  == \"__main__\":\n",
    "    print(fib4(5))\n",
    "    print(fib4(50))"
   ]
  },
  {
   "cell_type": "markdown",
   "id": "23a1bcc0-2e27-4ff1-bb2b-0f01dd3318d3",
   "metadata": {},
   "source": [
    "Let's look at its visualization:"
   ]
  },
  {
   "cell_type": "code",
   "execution_count": 16,
   "id": "05b46e12-789a-44b6-a475-7dc78275dbab",
   "metadata": {
    "execution": {
     "iopub.execute_input": "2022-02-20T13:12:30.222381Z",
     "iopub.status.busy": "2022-02-20T13:12:30.221985Z",
     "iopub.status.idle": "2022-02-20T13:12:30.294134Z",
     "shell.execute_reply": "2022-02-20T13:12:30.293498Z",
     "shell.execute_reply.started": "2022-02-20T13:12:30.222360Z"
    },
    "tags": []
   },
   "outputs": [
    {
     "ename": "Exception",
     "evalue": "File `'fibvis4.py'` not found.",
     "output_type": "error",
     "traceback": [
      "\u001b[0;31m---------------------------------------------------------------------------\u001b[0m",
      "\u001b[0;31mOSError\u001b[0m                                   Traceback (most recent call last)",
      "File \u001b[0;32m/extra-home/h/minconda/envs/classic-problem/lib/python3.10/site-packages/IPython/core/magics/execution.py:696\u001b[0m, in \u001b[0;36mExecutionMagics.run\u001b[0;34m(self, parameter_s, runner, file_finder)\u001b[0m\n\u001b[1;32m    695\u001b[0m     fpath \u001b[38;5;241m=\u001b[39m arg_lst[\u001b[38;5;241m0\u001b[39m]\n\u001b[0;32m--> 696\u001b[0m     filename \u001b[38;5;241m=\u001b[39m \u001b[43mfile_finder\u001b[49m\u001b[43m(\u001b[49m\u001b[43mfpath\u001b[49m\u001b[43m)\u001b[49m\n\u001b[1;32m    697\u001b[0m \u001b[38;5;28;01mexcept\u001b[39;00m \u001b[38;5;167;01mIndexError\u001b[39;00m \u001b[38;5;28;01mas\u001b[39;00m e:\n",
      "File \u001b[0;32m/extra-home/h/minconda/envs/classic-problem/lib/python3.10/site-packages/IPython/utils/path.py:91\u001b[0m, in \u001b[0;36mget_py_filename\u001b[0;34m(name)\u001b[0m\n\u001b[1;32m     90\u001b[0m \u001b[38;5;28;01melse\u001b[39;00m:\n\u001b[0;32m---> 91\u001b[0m     \u001b[38;5;28;01mraise\u001b[39;00m \u001b[38;5;167;01mIOError\u001b[39;00m(\u001b[38;5;124m'\u001b[39m\u001b[38;5;124mFile `\u001b[39m\u001b[38;5;132;01m%r\u001b[39;00m\u001b[38;5;124m` not found.\u001b[39m\u001b[38;5;124m'\u001b[39m \u001b[38;5;241m%\u001b[39m name)\n",
      "\u001b[0;31mOSError\u001b[0m: File `'fibvis4.py'` not found.",
      "\nThe above exception was the direct cause of the following exception:\n",
      "\u001b[0;31mException\u001b[0m                                 Traceback (most recent call last)",
      "Input \u001b[0;32mIn [16]\u001b[0m, in \u001b[0;36m<module>\u001b[0;34m\u001b[0m\n\u001b[0;32m----> 1\u001b[0m \u001b[43mget_ipython\u001b[49m\u001b[43m(\u001b[49m\u001b[43m)\u001b[49m\u001b[38;5;241;43m.\u001b[39;49m\u001b[43mrun_line_magic\u001b[49m\u001b[43m(\u001b[49m\u001b[38;5;124;43m'\u001b[39;49m\u001b[38;5;124;43mrun\u001b[39;49m\u001b[38;5;124;43m'\u001b[39;49m\u001b[43m,\u001b[49m\u001b[43m \u001b[49m\u001b[38;5;124;43m'\u001b[39;49m\u001b[38;5;124;43mfibvis4.py\u001b[39;49m\u001b[38;5;124;43m'\u001b[39;49m\u001b[43m)\u001b[49m\n",
      "File \u001b[0;32m/extra-home/h/minconda/envs/classic-problem/lib/python3.10/site-packages/IPython/core/interactiveshell.py:2204\u001b[0m, in \u001b[0;36mInteractiveShell.run_line_magic\u001b[0;34m(self, magic_name, line, _stack_depth)\u001b[0m\n\u001b[1;32m   2202\u001b[0m     kwargs[\u001b[38;5;124m'\u001b[39m\u001b[38;5;124mlocal_ns\u001b[39m\u001b[38;5;124m'\u001b[39m] \u001b[38;5;241m=\u001b[39m \u001b[38;5;28mself\u001b[39m\u001b[38;5;241m.\u001b[39mget_local_scope(stack_depth)\n\u001b[1;32m   2203\u001b[0m \u001b[38;5;28;01mwith\u001b[39;00m \u001b[38;5;28mself\u001b[39m\u001b[38;5;241m.\u001b[39mbuiltin_trap:\n\u001b[0;32m-> 2204\u001b[0m     result \u001b[38;5;241m=\u001b[39m \u001b[43mfn\u001b[49m\u001b[43m(\u001b[49m\u001b[38;5;241;43m*\u001b[39;49m\u001b[43margs\u001b[49m\u001b[43m,\u001b[49m\u001b[43m \u001b[49m\u001b[38;5;241;43m*\u001b[39;49m\u001b[38;5;241;43m*\u001b[39;49m\u001b[43mkwargs\u001b[49m\u001b[43m)\u001b[49m\n\u001b[1;32m   2205\u001b[0m \u001b[38;5;28;01mreturn\u001b[39;00m result\n",
      "File \u001b[0;32m/extra-home/h/minconda/envs/classic-problem/lib/python3.10/site-packages/IPython/core/magics/execution.py:707\u001b[0m, in \u001b[0;36mExecutionMagics.run\u001b[0;34m(self, parameter_s, runner, file_finder)\u001b[0m\n\u001b[1;32m    705\u001b[0m     \u001b[38;5;28;01mif\u001b[39;00m os\u001b[38;5;241m.\u001b[39mname \u001b[38;5;241m==\u001b[39m \u001b[38;5;124m'\u001b[39m\u001b[38;5;124mnt\u001b[39m\u001b[38;5;124m'\u001b[39m \u001b[38;5;129;01mand\u001b[39;00m re\u001b[38;5;241m.\u001b[39mmatch(\u001b[38;5;124mr\u001b[39m\u001b[38;5;124m\"\u001b[39m\u001b[38;5;124m^\u001b[39m\u001b[38;5;124m'\u001b[39m\u001b[38;5;124m.*\u001b[39m\u001b[38;5;124m'\u001b[39m\u001b[38;5;124m$\u001b[39m\u001b[38;5;124m\"\u001b[39m,fpath):\n\u001b[1;32m    706\u001b[0m         warn(\u001b[38;5;124m'\u001b[39m\u001b[38;5;124mFor Windows, use double quotes to wrap a filename: \u001b[39m\u001b[38;5;132;01m%r\u001b[39;00m\u001b[38;5;124mun \u001b[39m\u001b[38;5;124m\"\u001b[39m\u001b[38;5;124mmypath\u001b[39m\u001b[38;5;130;01m\\\\\u001b[39;00m\u001b[38;5;124mmyfile.py\u001b[39m\u001b[38;5;124m\"\u001b[39m\u001b[38;5;124m'\u001b[39m)\n\u001b[0;32m--> 707\u001b[0m     \u001b[38;5;28;01mraise\u001b[39;00m \u001b[38;5;167;01mException\u001b[39;00m(msg) \u001b[38;5;28;01mfrom\u001b[39;00m \u001b[38;5;21;01me\u001b[39;00m\n\u001b[1;32m    708\u001b[0m \u001b[38;5;28;01mexcept\u001b[39;00m \u001b[38;5;167;01mTypeError\u001b[39;00m:\n\u001b[1;32m    709\u001b[0m     \u001b[38;5;28;01mif\u001b[39;00m fpath \u001b[38;5;129;01min\u001b[39;00m sys\u001b[38;5;241m.\u001b[39mmeta_path:\n",
      "\u001b[0;31mException\u001b[0m: File `'fibvis4.py'` not found."
     ]
    }
   ],
   "source": [
    "%run fibvis4.py"
   ]
  },
  {
   "cell_type": "markdown",
   "id": "cfbda2bd-0d77-4abc-b6f7-1ce14a85b53e",
   "metadata": {
    "execution": {
     "iopub.execute_input": "2022-02-20T13:13:04.538391Z",
     "iopub.status.busy": "2022-02-20T13:13:04.538165Z",
     "iopub.status.idle": "2022-02-20T13:13:04.653481Z",
     "shell.execute_reply": "2022-02-20T13:13:04.653000Z",
     "shell.execute_reply.started": "2022-02-20T13:13:04.538372Z"
    }
   },
   "source": [
    "![](fib4.gif)"
   ]
  },
  {
   "cell_type": "markdown",
   "id": "31e8097d-07d5-422e-a69b-3f53dac9e817",
   "metadata": {},
   "source": [
    "Clearly, `@lru_cache` might be tensy-tiny bit more efficient than our implementation. But only marginally so."
   ]
  },
  {
   "cell_type": "markdown",
   "id": "0dca5da7-bf55-4ad6-b36b-9f061d1acd1f",
   "metadata": {},
   "source": [
    "## Iteration\n",
    "\n",
    "**Remember**: \n",
    "- Any problem that can be solved recursively can also be solve iteratively.\n",
    "- Naive recursive solutions (generally) come with significant performance cost.\n",
    "\n",
    "Now we present the simple fibonacci solution with a for loop."
   ]
  },
  {
   "cell_type": "code",
   "execution_count": 19,
   "id": "247144c3-b970-4623-9dcb-009ac2298b26",
   "metadata": {
    "execution": {
     "iopub.execute_input": "2022-02-20T13:26:23.023391Z",
     "iopub.status.busy": "2022-02-20T13:26:23.023245Z",
     "iopub.status.idle": "2022-02-20T13:26:23.027348Z",
     "shell.execute_reply": "2022-02-20T13:26:23.026858Z",
     "shell.execute_reply.started": "2022-02-20T13:26:23.023376Z"
    },
    "tags": []
   },
   "outputs": [
    {
     "name": "stdout",
     "output_type": "stream",
     "text": [
      "5\n",
      "12586269025\n"
     ]
    }
   ],
   "source": [
    "def fib5(n: int) -> int:\n",
    "    if n == 0: return n    # special case\n",
    "    last: int = 0    #initially fib(0)\n",
    "    curr: int = 1    # initially fib(1)\n",
    "    \n",
    "    for _ in range(1, n):\n",
    "        last, curr = curr, last + curr\n",
    "        \n",
    "    return curr\n",
    "\n",
    "\n",
    "if __name__ == \"__main__\":\n",
    "    print(fib5(5))\n",
    "    print(fib5(50))"
   ]
  },
  {
   "cell_type": "markdown",
   "id": "5d511cca-993d-438d-9476-17bc3947ce68",
   "metadata": {},
   "source": [
    "Might be a bit faster than the memoization versions but not significantly so."
   ]
  },
  {
   "cell_type": "markdown",
   "id": "882bce32-4ae0-4e68-bf72-8339c8e09fe9",
   "metadata": {},
   "source": [
    "We are going to skip this visualization because its just a linear loop, and you should be able to visualize it by now (on your own)."
   ]
  },
  {
   "cell_type": "markdown",
   "id": "e64cd4c6-4de3-4548-b829-188650c9f69e",
   "metadata": {},
   "source": [
    "## Generator\n",
    "\n",
    "- Can be useful if you need to loop over the list of fibonnaci numbers.\n",
    "- We can easily convert the **for loop** version using `yield`"
   ]
  },
  {
   "cell_type": "code",
   "execution_count": 21,
   "id": "4a18c4f8-dfe5-4b6b-99f1-64e8f073405f",
   "metadata": {
    "execution": {
     "iopub.execute_input": "2022-02-20T13:43:10.998993Z",
     "iopub.status.busy": "2022-02-20T13:43:10.998815Z",
     "iopub.status.idle": "2022-02-20T13:43:11.007086Z",
     "shell.execute_reply": "2022-02-20T13:43:11.006659Z",
     "shell.execute_reply.started": "2022-02-20T13:43:10.998976Z"
    },
    "tags": []
   },
   "outputs": [
    {
     "name": "stdout",
     "output_type": "stream",
     "text": [
      "0\n",
      "1\n",
      "1\n",
      "2\n",
      "3\n",
      "5\n",
      "8\n",
      "13\n",
      "21\n",
      "34\n",
      "55\n",
      "89\n",
      "144\n",
      "233\n",
      "377\n",
      "610\n",
      "987\n",
      "1597\n",
      "2584\n",
      "4181\n",
      "6765\n",
      "10946\n",
      "17711\n",
      "28657\n",
      "46368\n",
      "75025\n",
      "121393\n",
      "196418\n",
      "317811\n",
      "514229\n",
      "832040\n",
      "1346269\n",
      "2178309\n",
      "3524578\n",
      "5702887\n",
      "9227465\n",
      "14930352\n",
      "24157817\n",
      "39088169\n",
      "63245986\n",
      "102334155\n",
      "165580141\n",
      "267914296\n",
      "433494437\n",
      "701408733\n",
      "1134903170\n",
      "1836311903\n",
      "2971215073\n",
      "4807526976\n",
      "7778742049\n",
      "12586269025\n",
      "20365011074\n"
     ]
    }
   ],
   "source": [
    "def fib6(n: int) -> Generator[int, None, None]:\n",
    "    yield 0    # special case fib(0)\n",
    "    if n > 0: yield 1    # special case fib(1)\n",
    "    last: int = 0\n",
    "    curr: int = 1\n",
    "    for _ in range(0, n):\n",
    "        last, curr = curr, last + curr\n",
    "        yield curr   # main generation step\n",
    "        \n",
    "if __name__ == \"__main__\":\n",
    "    for i in fib6(50):\n",
    "        print(i)"
   ]
  },
  {
   "cell_type": "markdown",
   "id": "7c21513b-fb49-4209-863a-b799acf8a1ed",
   "metadata": {},
   "source": [
    "This is more comparable to the simple recursion than anything else! So the speed isn't unexpected."
   ]
  },
  {
   "cell_type": "markdown",
   "id": "65ac3121-d6f9-4c3f-8b23-26f14e9cf5ac",
   "metadata": {},
   "source": [
    "## My Attempts\n",
    "\n",
    "Here are some alternative methods for solving fibonacci. These are not in the same category of completeness as the codes so far."
   ]
  },
  {
   "cell_type": "markdown",
   "id": "bf0abcef-3413-4196-8156-9a958313fe51",
   "metadata": {},
   "source": [
    "### Generator + Memoization (???)\n",
    "\n",
    "Let's try to add the `lru_cache` decorator to the generator method and see if that helps or hinders in any way."
   ]
  },
  {
   "cell_type": "code",
   "execution_count": 22,
   "id": "dfc67c0b-12f1-4d75-8065-7afb308ff50f",
   "metadata": {
    "execution": {
     "iopub.execute_input": "2022-02-20T13:49:12.042630Z",
     "iopub.status.busy": "2022-02-20T13:49:12.042217Z",
     "iopub.status.idle": "2022-02-20T13:49:12.048327Z",
     "shell.execute_reply": "2022-02-20T13:49:12.047843Z",
     "shell.execute_reply.started": "2022-02-20T13:49:12.042611Z"
    }
   },
   "outputs": [
    {
     "name": "stdout",
     "output_type": "stream",
     "text": [
      "0\n",
      "1\n",
      "1\n",
      "2\n",
      "3\n",
      "5\n",
      "8\n",
      "13\n",
      "21\n",
      "34\n",
      "55\n",
      "89\n",
      "144\n",
      "233\n",
      "377\n",
      "610\n",
      "987\n",
      "1597\n",
      "2584\n",
      "4181\n",
      "6765\n",
      "10946\n",
      "17711\n",
      "28657\n",
      "46368\n",
      "75025\n",
      "121393\n",
      "196418\n",
      "317811\n",
      "514229\n",
      "832040\n",
      "1346269\n",
      "2178309\n",
      "3524578\n",
      "5702887\n",
      "9227465\n",
      "14930352\n",
      "24157817\n",
      "39088169\n",
      "63245986\n",
      "102334155\n",
      "165580141\n",
      "267914296\n",
      "433494437\n",
      "701408733\n",
      "1134903170\n",
      "1836311903\n",
      "2971215073\n",
      "4807526976\n",
      "7778742049\n",
      "12586269025\n",
      "20365011074\n"
     ]
    }
   ],
   "source": [
    "@lru_cache(maxsize=None)\n",
    "def fib7(n: int) -> Generator[int, None, None]:\n",
    "    yield 0    # special case fib(0)\n",
    "    if n > 0: yield 1    # special case fib(1)\n",
    "    last: int = 0\n",
    "    curr: int = 1\n",
    "    for _ in range(0, n):\n",
    "        last, curr = curr, last + curr\n",
    "        yield curr   # main generation step\n",
    "        \n",
    "if __name__ == \"__main__\":\n",
    "    for i in fib7(50):\n",
    "        print(i)"
   ]
  },
  {
   "cell_type": "markdown",
   "id": "39ae6ce2-786b-4994-81d5-738ac71ba4b6",
   "metadata": {},
   "source": [
    "**NOTE:**\n",
    "1. I didn't expect it to work. You can use memoization with generators and for loop!\n",
    "2. I don't understand what is happening here! Why is memoization helping???"
   ]
  },
  {
   "cell_type": "markdown",
   "id": "05890e3b-3fb4-4279-a909-6a11e6872235",
   "metadata": {},
   "source": [
    "## Fastest: Using Math"
   ]
  },
  {
   "cell_type": "markdown",
   "id": "500beff2-e43c-4bdd-a7ae-9189689f9b85",
   "metadata": {},
   "source": [
    "### Formula\n",
    "\n"
   ]
  },
  {
   "cell_type": "markdown",
   "id": "93f33583-f690-45ba-b6b8-1b83cd026a9d",
   "metadata": {},
   "source": [
    "### Derivation"
   ]
  },
  {
   "cell_type": "markdown",
   "id": "7806fe80-2f35-4242-b0df-944c59120a7a",
   "metadata": {},
   "source": [
    "### Implementation"
   ]
  },
  {
   "cell_type": "code",
   "execution_count": null,
   "id": "cc25c0e3-16b1-412f-8eeb-103b8af2235d",
   "metadata": {},
   "outputs": [],
   "source": []
  }
 ],
 "metadata": {
  "kernelspec": {
   "display_name": "Python 3 (ipykernel)",
   "language": "python",
   "name": "python3"
  },
  "language_info": {
   "codemirror_mode": {
    "name": "ipython",
    "version": 3
   },
   "file_extension": ".py",
   "mimetype": "text/x-python",
   "name": "python",
   "nbconvert_exporter": "python",
   "pygments_lexer": "ipython3",
   "version": "3.10.9"
  },
  "toc-autonumbering": true
 },
 "nbformat": 4,
 "nbformat_minor": 5
}
